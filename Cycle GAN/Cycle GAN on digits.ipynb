{
  "nbformat": 4,
  "nbformat_minor": 0,
  "metadata": {
    "accelerator": "GPU",
    "colab": {
      "name": "Projet_DL_Cvarennes.ipynb",
      "provenance": [],
      "collapsed_sections": []
    },
    "kernelspec": {
      "display_name": "Python 3",
      "language": "python",
      "name": "python3"
    },
    "language_info": {
      "codemirror_mode": {
        "name": "ipython",
        "version": 3
      },
      "file_extension": ".py",
      "mimetype": "text/x-python",
      "name": "python",
      "nbconvert_exporter": "python",
      "pygments_lexer": "ipython3",
      "version": "3.8.2"
    }
  },
  "cells": [
    {
      "cell_type": "code",
      "metadata": {
        "id": "rkDzYU4fEYjd"
      },
      "source": [
        "from mlxtend.data import loadlocal_mnist\n",
        "import torch\n",
        "import numpy as np\n",
        "import time\n",
        "\n",
        "import torch.nn.functional as F\n",
        "from torch.autograd import Variable\n",
        "\n",
        "import torch.nn as nn\n",
        "import torch.optim as optim\n",
        "from torch.utils.data import DataLoader, Subset,TensorDataset\n",
        "import matplotlib.pyplot as plt\n",
        "%matplotlib inline"
      ],
      "execution_count": null,
      "outputs": []
    },
    {
      "cell_type": "markdown",
      "metadata": {
        "id": "5U48rzJXcBkF"
      },
      "source": [
        "### Fonctions utiles afin de simplifer l'implémentation\n",
        "en effet, la plupart des oppérations sont similaires, à l'utilisation d'un BatchNorm près"
      ]
    },
    {
      "cell_type": "code",
      "metadata": {
        "id": "MHD9dp3MJpxP"
      },
      "source": [
        "def dconv(in_, out, kernel, stride=2, padding=1, batch_norm=True):\n",
        "    l = []\n",
        "    l.append(nn.ConvTranspose2d(in_, out, kernel, stride, padding, bias=False))\n",
        "    if batch_norm:\n",
        "        l.append(nn.BatchNorm2d(out))\n",
        "    return nn.Sequential(*l)\n",
        "\n",
        "def conv(in_, out, kernel, stride=2, padding=1, batch_norm=True):\n",
        "    l = []\n",
        "    l.append(nn.Conv2d(in_, out, kernel, stride, padding, bias=False))\n",
        "    if batch_norm:\n",
        "        l.append(nn.BatchNorm2d(out))\n",
        "    return nn.Sequential(*l)"
      ],
      "execution_count": null,
      "outputs": []
    },
    {
      "cell_type": "markdown",
      "metadata": {
        "id": "5MXsBejVcBkL"
      },
      "source": [
        "### Réseaux de neurones pour les générateurs et discriminateurs"
      ]
    },
    {
      "cell_type": "code",
      "metadata": {
        "id": "qvOFobNHEYj4"
      },
      "source": [
        "class DMNIST(nn.Module):\n",
        "    \"\"\"MNIST discriminateur\"\"\"\n",
        "    def __init__(self, conv_dim=28, use_labels=False):\n",
        "        super(DMNIST, self).__init__()\n",
        "        self.conv1 = conv(1, 28, kernel=5, stride=2, padding=0, batch_norm=False)\n",
        "        self.conv2 = conv(28, 56,kernel=5, stride=2, padding=1)\n",
        "        self.conv3 = conv(56, 112, kernel=2, stride=2, padding=0)\n",
        "        self.conv4 = conv(112, 1, kernel=2, stride=2, padding=0, batch_norm=False)\n",
        "        \n",
        "    def forward(self, x):\n",
        "        out = F.relu(self.conv1(x))    \n",
        "        out = F.relu(self.conv2(out))  \n",
        "        out = F.relu(self.conv3(out))\n",
        "        out = self.conv4(out) \n",
        "        return out.squeeze()"
      ],
      "execution_count": null,
      "outputs": []
    },
    {
      "cell_type": "code",
      "metadata": {
        "id": "WZU_2FkYEYj9"
      },
      "source": [
        "class DUSPS(nn.Module):\n",
        "    \"\"\"USPS discriminateur\"\"\"\n",
        "    def __init__(self):\n",
        "        super(DUSPS, self).__init__()\n",
        "        self.conv1 = conv(1,  16, kernel=4, stride=2, padding=1, batch_norm=False)\n",
        "        self.conv2 = conv(16, 32, kernel=4, stride=2, padding=1)\n",
        "        self.conv3 = conv(32, 64,kernel=2, stride=2, padding=0)\n",
        "        self.conv4 = conv(64, 1, kernel=2, stride=2, padding=0, batch_norm=False)\n",
        "        \n",
        "    def forward(self, x):\n",
        "        out = F.relu(self.conv1(x))\n",
        "        out = F.relu(self.conv2(out))\n",
        "        out = F.relu(self.conv3(out)) \n",
        "        out = self.conv4(out)\n",
        "        return out.squeeze()"
      ],
      "execution_count": null,
      "outputs": []
    },
    {
      "cell_type": "code",
      "metadata": {
        "id": "wIWRz4qdEYkK"
      },
      "source": [
        "class GMNISTUSPS(nn.Module):\n",
        "    \"\"\"MNIST --- > USPS\"\"\"\n",
        "    def __init__(self, conv_dim=16):\n",
        "        super(GMNISTUSPS, self).__init__()\n",
        "\n",
        "        # encoding\n",
        "        self.conv1 = conv(1, 8, 4, 1, 0)\n",
        "        self.conv2 = conv(8, 16, 5, 2, 0)\n",
        "        self.conv3 = conv(16, 32, 5, 2, 0, False)        \n",
        "        \n",
        "        # resnet\n",
        "        self.conv4 = conv(32, 32, 3, 1, 1)\n",
        "        self.conv5 = conv(32, 32, 3, 1, 1)\n",
        "\n",
        "        \n",
        "        # decoding\n",
        "        self.dconv1 = dconv(32, 16, 5, 2,0)\n",
        "        self.dconv2 = dconv(16, 8, 4,1,0)\n",
        "        self.dconv3 = dconv(8, 1, 3, 1, 0, False)\n",
        "        \n",
        "    def forward(self, x):\n",
        "        out = F.relu(self.conv1(x)) \n",
        "        out = F.relu(self.conv2(out)) \n",
        "        out = self.conv3(out)\n",
        "\n",
        "        out = self.conv4(out)\n",
        "        out = F.relu(self.conv5(out))\n",
        "\n",
        "        out = F.relu(self.dconv1(out)) \n",
        "        out = F.relu(self.dconv2(out))\n",
        "        out = self.dconv3(out)\n",
        "        return torch.tanh(out)"
      ],
      "execution_count": null,
      "outputs": []
    },
    {
      "cell_type": "code",
      "metadata": {
        "id": "lrDr_xpJEYkD"
      },
      "source": [
        "class GUSPSMNIST(nn.Module):\n",
        "    \"\"\"USPS --- > MNIST\"\"\"\n",
        "    def __init__(self, conv_dim=16):\n",
        "        super(GUSPSMNIST, self).__init__()\n",
        "        # encoding\n",
        "        self.conv1 = conv(1, 8, 3, 1, 0)\n",
        "        self.conv2 = conv(8, 16, 4, 1,0)\n",
        "        self.conv3 = conv(16, 32, 5, 2, 0 ,False)\n",
        "        \n",
        "        \n",
        "        # resnet\n",
        "        self.conv4 = conv(32, 32, 3,1, 1)\n",
        "        self.conv5 = conv(32, 32, 3,1, 1)\n",
        "\n",
        "        \n",
        "        # decoding\n",
        "        self.dconv1 = dconv(32, 16, 5, 2, 0)\n",
        "        self.dconv2 = dconv(16, 8, 5, 2, 0)\n",
        "        self.dconv3 = dconv(8, 1, 4, 1, 0, batch_norm=False)\n",
        "\n",
        "        \n",
        "    def forward(self, x):\n",
        "        out = F.relu(self.conv1(x))\n",
        "        out = F.relu(self.conv2(out) )\n",
        "        out = self.conv3(out)\n",
        "\n",
        "        out = self.conv4(out)\n",
        "        out = F.relu(self.conv5(out))\n",
        "\n",
        "        out = F.relu(self.dconv1(out))\n",
        "        out = F.relu(self.dconv2(out))\n",
        "        out = torch.tanh(self.dconv3(out))\n",
        "        return out"
      ],
      "execution_count": null,
      "outputs": []
    },
    {
      "cell_type": "markdown",
      "metadata": {
        "id": "RXOvwk_scBkb"
      },
      "source": [
        "### Récupération et mise en forme des données"
      ]
    },
    {
      "cell_type": "code",
      "metadata": {
        "id": "kH4hydYSEYjo"
      },
      "source": [
        "X, y = loadlocal_mnist(\n",
        "        images_path='./MNIST_train_im', \n",
        "        labels_path='./MNIST_train_label')\n",
        "X = X/254"
      ],
      "execution_count": null,
      "outputs": []
    },
    {
      "cell_type": "code",
      "metadata": {
        "id": "BAUY_hoOEYjx"
      },
      "source": [
        "import h5py\n",
        "with h5py.File(\"./usps.h5\", 'r') as hf:\n",
        "        train = hf.get('train')\n",
        "        X_tr = train.get('data')[:]\n",
        "        y_tr = train.get('target')[:]\n",
        "        test = hf.get('test')\n",
        "        X_te = test.get('data')[:]\n",
        "        y_te = test.get('target')[:]"
      ],
      "execution_count": null,
      "outputs": []
    },
    {
      "cell_type": "code",
      "metadata": {
        "id": "ysM2lSFMEYkT"
      },
      "source": [
        "x = np.expand_dims(X.reshape(60000,28,28), 1)\n",
        "tensor_x_1 = torch.from_numpy(x.astype(\"float32\")) # transform to torch tensor\n",
        "tensor_y_1 = torch.from_numpy(y.astype(\"float32\"))\n",
        "tensor_x_2 = torch.from_numpy(X_tr.reshape(7291,1,16,16).astype(\"float32\"))\n",
        "tensor_y_2 = torch.from_numpy(y_tr.astype(\"float32\"))\n",
        "my_dataset_1 = TensorDataset(tensor_x_1,tensor_y_1)# create your datset\n",
        "my_dataset_2 = TensorDataset(tensor_x_2,tensor_y_2)\n"
      ],
      "execution_count": null,
      "outputs": []
    },
    {
      "cell_type": "code",
      "metadata": {
        "id": "V8N-yCOPEYkg"
      },
      "source": [
        "class_inds_1 = [torch.where(my_dataset_1.tensors[1] == i)[0]\n",
        "              for i in range(10)]\n",
        "class_inds_2 = [torch.where(my_dataset_2.tensors[1] == i)[0]\n",
        "              for i in range(10)]"
      ],
      "execution_count": null,
      "outputs": []
    },
    {
      "cell_type": "code",
      "metadata": {
        "id": "WtCvWohAEYkn"
      },
      "source": [
        "dataloaders_1 = [\n",
        "    DataLoader(\n",
        "        dataset=Subset(my_dataset_1, class_inds_1[i]),\n",
        "        batch_size=64,\n",
        "        shuffle=True,\n",
        "        drop_last=False)\n",
        "    for i in range(10)]\n",
        "\n",
        "dataloaders_2 = [\n",
        "    DataLoader(\n",
        "        dataset=Subset(my_dataset_2, class_inds_2[i]),\n",
        "        batch_size=64,\n",
        "        shuffle=True,\n",
        "        drop_last=False)\n",
        "    for i in range(10)]"
      ],
      "execution_count": null,
      "outputs": []
    },
    {
      "cell_type": "markdown",
      "metadata": {
        "id": "eajsXeNOcBku"
      },
      "source": [
        "### Procédure d'entrainement"
      ]
    },
    {
      "cell_type": "code",
      "metadata": {
        "id": "oVSxUxD3EYlG"
      },
      "source": [
        "def train(usps_loader, mnist_loader):\n",
        "    lambda_ = 0.0002\n",
        "\n",
        "    G_params = list(GMU.parameters()) + list(GUM.parameters())\n",
        "    D_params = list(DM.parameters()) + list(DU.parameters())\n",
        "\n",
        "    G_optimizer = optim.Adam(G_params, lambda_)\n",
        "\n",
        "    D_optimizer = optim.Adam(D_params, lambda_)\n",
        "\n",
        "\n",
        "    usps_iter = iter(usps_loader)\n",
        "    mnist_iter = iter(mnist_loader)\n",
        "    iter_per_epoch = min(len(usps_iter), len(mnist_iter))\n",
        "\n",
        "    fixusps = Variable(usps_iter.next()[0].cuda())\n",
        "    fixmnist = Variable(mnist_iter.next()[0].cuda())\n",
        "\n",
        "    criterion = nn.CrossEntropyLoss()\n",
        "\n",
        "    for step in range((epochs+1) *iter_per_epoch ):\n",
        "        if (step+1) % iter_per_epoch == 0:\n",
        "            if (step+1) / iter_per_epoch -2 > epochs/2:\n",
        "                lambda_ = lambda_ - 0.0002 / (epochs/2)\n",
        "                G_params = list(GMU.parameters()) + list(GUM.parameters())\n",
        "                D_params = list(DM.parameters()) + list(DU.parameters())\n",
        "\n",
        "                G_optimizer = optim.Adam(G_params, lambda_)\n",
        "                D_optimizer = optim.Adam(D_params, lambda_)\n",
        "        mnist_iter = iter(mnist_loader)\n",
        "        usps_iter = iter(usps_loader)\n",
        "\n",
        "        # load svhn and mnist dataset\n",
        "        usps, s_labels = usps_iter.next() \n",
        "        usps = Variable(usps.cuda())\n",
        "        s_labels = Variable(s_labels.cuda()).long().squeeze()\n",
        "        mnist, m_labels = mnist_iter.next() \n",
        "        mnist = Variable(mnist.cuda())\n",
        "        m_labels = Variable(m_labels.cuda())\n",
        "\n",
        "\n",
        "        #Entrainement Discriminateurs#\n",
        "\n",
        "        #REAL#\n",
        "\n",
        "        out = DM(mnist)\n",
        "\n",
        "        DM_loss = torch.mean((out-1)**2)\n",
        "\n",
        "        out = DU(usps)\n",
        "\n",
        "        DU_loss = torch.mean((out-1)**2)\n",
        "\n",
        "\n",
        "\n",
        "        D_real_loss = DM_loss + DU_loss\n",
        "        D_real_loss.backward()\n",
        "        D_optimizer.step()\n",
        "\n",
        "\n",
        "\n",
        "        #FAKE#\n",
        "\n",
        "        D_optimizer.zero_grad()\n",
        "        G_optimizer.zero_grad()\n",
        "\n",
        "        fake_usps = GMU(mnist)\n",
        "\n",
        "        out = DU(fake_usps).\n",
        "        DU_loss = torch.mean((out)**2)\n",
        "\n",
        "        f_mnist = GUM(usps)\n",
        "        out = DM(f_mnist)\n",
        "\n",
        "        DM_loss = torch.mean((out)**2)\n",
        "\n",
        "        D_fake_loss = DU_loss + DM_loss\n",
        "        D_fake_loss.backward()\n",
        "        D_optimizer.step()\n",
        "\n",
        "        #Entrainement des Générateurs#\n",
        "        # M --- > U --- > M\n",
        "\n",
        "        D_optimizer.zero_grad()\n",
        "        G_optimizer.zero_grad()\n",
        "\n",
        "        f_usps = GMU(mnist)\n",
        "        out = DU(f_usps)\n",
        "        reconst_mnist = GUM(f_usps)\n",
        "\n",
        "        G_loss = torch.mean((out-1)**2) \n",
        "\n",
        "        cycle_loss = 0\n",
        "        for e in (mnist - reconst_mnist):\n",
        "            cycle_loss += torch.norm(e, p=1)\n",
        "        G_loss += 0.1*cycle_loss/64\n",
        "\n",
        "        G_loss.backward()\n",
        "        G_optimizer.step()\n",
        "        D_optimizer.zero_grad()\n",
        "        G_optimizer.zero_grad()\n",
        "\n",
        "\n",
        "        # U --- > M --- > U\n",
        "        f_mnist = GUM(usps)\n",
        "        out = DM(f_mnist)\n",
        "        reconst_usps = GMU(f_mnist)\n",
        "\n",
        "        G_loss = torch.mean((out-1)**2) \n",
        "\n",
        "        cycle_loss = 0\n",
        "        for e in (usps - reconst_usps):\n",
        "            cycle_loss += torch.norm(e, p=1)\n",
        "\n",
        "        G_loss += (0.1)*cycle_loss/64\n",
        "\n",
        "\n",
        "        G_loss.backward()\n",
        "        G_optimizer.step()\n",
        "        D_optimizer.zero_grad()\n",
        "        G_optimizer.zero_grad()\n",
        "\n",
        "        #infos affichées\n",
        "        if (step+1) % 500 == 0:\n",
        "\n",
        "            print('step {} on {}, real loss: {} , fake loss: {} ,  Gen loss: {}'.format(\n",
        "              step+1 , epochs*iter_per_epoch, D_real_loss.data.item(), D_fake_loss.data.item(), G_loss.data.item()\n",
        "              ))\n",
        "            print(\"lambda = {}\".format(lambda_))\n",
        "            print(\"total time: {}\".format(time.time() - begin))"
      ],
      "execution_count": null,
      "outputs": []
    },
    {
      "cell_type": "markdown",
      "metadata": {
        "id": "EzgXGpahcBky"
      },
      "source": [
        "### entrainement pour chaque domaines (chiffres de 0 à 9)"
      ]
    },
    {
      "cell_type": "code",
      "metadata": {
        "id": "hdNPhc8mEYk3",
        "scrolled": true,
        "colab": {
          "base_uri": "https://localhost:8080/",
          "height": 1000
        },
        "outputId": "47589e7c-52ed-4ac4-ec5a-25a7e9ae1fc5"
      },
      "source": [
        "begin = time.time()\n",
        "epochs = 200\n",
        "for i in range(10):\n",
        "    print(i)\n",
        "    loader_1 = dataloaders_1[i]\n",
        "    loader_2 = dataloaders_2[i]\n",
        "    DM = DMNIST()\n",
        "    DU = DUSPS()\n",
        "    GMU = GMNISTUSPS()\n",
        "    GUM = GUSPSMNIST()\n",
        "    \n",
        "    lambda_ = 0.0002\n",
        "  \n",
        "    G_params = list(GMU.parameters()) + list(GUM.parameters())\n",
        "    D_params = list(DM.parameters()) + list(DU.parameters())\n",
        "        \n",
        "    G_optimizer = optim.Adam(G_params, lambda_)\n",
        "\n",
        "    D_optimizer = optim.Adam(D_params, lambda_)\n",
        "\n",
        "\n",
        "    if torch.cuda.is_available():\n",
        "        print(\"gpu\")\n",
        "        DM.cuda()\n",
        "        DU.cuda()\n",
        "        GMU.cuda()\n",
        "        GUM.cuda()\n",
        "    train(loader_2,loader_1)\n",
        "    #enregistrement des models\n",
        "    torch.save(DM.state_dict(), \"./model/D_mnist_{}.pth\".format(i))\n",
        "    torch.save(DU.state_dict(),  \"./model/D_usps_{}.pth\".format(i))\n",
        "    torch.save(GMU.state_dict(),  \"./model/G_mnisttousps_{}.pth\".format(i))\n",
        "    torch.save(GUM.state_dict(),  \"./model/G_uspstomnist_{}.pth\".format(i))"
      ],
      "execution_count": null,
      "outputs": [
        {
          "output_type": "stream",
          "text": [
            "0\n",
            "gpu\n",
            "step 500 on 3800, real loss: 0.13353444635868073 , fake loss: 0.08982214331626892 ,  Gen loss: 3.6244137287139893\n",
            "lambda = 0.0002\n",
            "total time: 27.390979051589966\n",
            "step 1000 on 3800, real loss: 0.1040114015340805 , fake loss: 0.09132496267557144 ,  Gen loss: 3.173264265060425\n",
            "lambda = 0.0002\n",
            "total time: 51.142638206481934\n",
            "step 1500 on 3800, real loss: 0.08100522309541702 , fake loss: 0.03569338470697403 ,  Gen loss: 2.1628377437591553\n",
            "lambda = 0.0002\n",
            "total time: 74.74612951278687\n",
            "step 2000 on 3800, real loss: 0.055622201412916183 , fake loss: 0.09475578367710114 ,  Gen loss: 2.995931386947632\n",
            "lambda = 0.00019400000000000003\n",
            "total time: 98.6977527141571\n",
            "step 2500 on 3800, real loss: 0.021887894719839096 , fake loss: 0.05622156336903572 ,  Gen loss: 2.5792956352233887\n",
            "lambda = 0.00014200000000000017\n",
            "total time: 122.5577392578125\n",
            "step 3000 on 3800, real loss: 0.07223937660455704 , fake loss: 0.08479520678520203 ,  Gen loss: 2.441288948059082\n",
            "lambda = 9.000000000000032e-05\n",
            "total time: 146.40523433685303\n",
            "step 3500 on 3800, real loss: 0.04454275220632553 , fake loss: 0.055237773805856705 ,  Gen loss: 2.6457250118255615\n",
            "lambda = 3.600000000000038e-05\n",
            "total time: 170.57139611244202\n",
            "1\n",
            "gpu\n",
            "step 500 on 3200, real loss: 0.07880707085132599 , fake loss: 0.06120767816901207 ,  Gen loss: 2.0743918418884277\n",
            "lambda = 0.0002\n",
            "total time: 209.76751375198364\n",
            "step 1000 on 3200, real loss: 0.06846681982278824 , fake loss: 0.04760577529668808 ,  Gen loss: 2.0787081718444824\n",
            "lambda = 0.0002\n",
            "total time: 233.5434136390686\n",
            "step 1500 on 3200, real loss: 0.06547071039676666 , fake loss: 0.07928413152694702 ,  Gen loss: 1.74648118019104\n",
            "lambda = 0.0002\n",
            "total time: 257.4747016429901\n",
            "step 2000 on 3200, real loss: 0.06704219430685043 , fake loss: 0.4552774429321289 ,  Gen loss: 1.8136647939682007\n",
            "lambda = 0.00015400000000000014\n",
            "total time: 281.3143825531006\n",
            "step 2500 on 3200, real loss: 0.11685152351856232 , fake loss: 0.07332845032215118 ,  Gen loss: 1.8616349697113037\n",
            "lambda = 9.200000000000031e-05\n",
            "total time: 304.96829628944397\n",
            "step 3000 on 3200, real loss: 0.09214558452367783 , fake loss: 0.09630659967660904 ,  Gen loss: 1.6100256443023682\n",
            "lambda = 3.0000000000000377e-05\n",
            "total time: 328.83794593811035\n",
            "2\n",
            "gpu\n",
            "step 500 on 2400, real loss: 0.1548503041267395 , fake loss: 0.10580489784479141 ,  Gen loss: 5.113645553588867\n",
            "lambda = 0.0002\n",
            "total time: 363.0474498271942\n",
            "step 1000 on 2400, real loss: 0.08270525187253952 , fake loss: 0.10306788980960846 ,  Gen loss: 4.102932453155518\n",
            "lambda = 0.0002\n",
            "total time: 386.8069965839386\n",
            "step 1500 on 2400, real loss: 0.03299965336918831 , fake loss: 0.2535795569419861 ,  Gen loss: 3.4304027557373047\n",
            "lambda = 0.00015400000000000014\n",
            "total time: 410.99230456352234\n",
            "step 2000 on 2400, real loss: 0.08543048799037933 , fake loss: 0.0948033481836319 ,  Gen loss: 3.36541748046875\n",
            "lambda = 7.200000000000037e-05\n",
            "total time: 434.6775677204132\n",
            "3\n",
            "gpu\n",
            "step 500 on 2200, real loss: 0.2092566341161728 , fake loss: 0.10011199116706848 ,  Gen loss: 5.502565383911133\n",
            "lambda = 0.0002\n",
            "total time: 478.1264259815216\n",
            "step 1000 on 2200, real loss: 0.14071020483970642 , fake loss: 0.08990927785634995 ,  Gen loss: 1.8377745151519775\n",
            "lambda = 0.0002\n",
            "total time: 501.9458518028259\n",
            "step 1500 on 2200, real loss: 0.12676624953746796 , fake loss: 0.07025666534900665 ,  Gen loss: 3.498274326324463\n",
            "lambda = 0.0001320000000000002\n",
            "total time: 525.9005665779114\n",
            "step 2000 on 2200, real loss: 0.07616551220417023 , fake loss: 0.05360264703631401 ,  Gen loss: 3.482510566711426\n",
            "lambda = 4.2000000000000384e-05\n",
            "total time: 549.7872266769409\n",
            "4\n",
            "gpu\n",
            "step 500 on 2200, real loss: 0.11558350175619125 , fake loss: 0.15006881952285767 ,  Gen loss: 4.272976398468018\n",
            "lambda = 0.0002\n",
            "total time: 583.5831160545349\n",
            "step 1000 on 2200, real loss: 0.06475462019443512 , fake loss: 0.10545192658901215 ,  Gen loss: 1.6771247386932373\n",
            "lambda = 0.0002\n",
            "total time: 607.2585506439209\n",
            "step 1500 on 2200, real loss: 0.10273430496454239 , fake loss: 0.10546562075614929 ,  Gen loss: 2.9187002182006836\n",
            "lambda = 0.0001320000000000002\n",
            "total time: 631.057195186615\n",
            "step 2000 on 2200, real loss: 0.029507344588637352 , fake loss: 0.08650026470422745 ,  Gen loss: 3.0286505222320557\n",
            "lambda = 4.2000000000000384e-05\n",
            "total time: 655.2360191345215\n",
            "5\n",
            "gpu\n",
            "step 500 on 1800, real loss: 0.0732976645231247 , fake loss: 0.06790857762098312 ,  Gen loss: 4.984846591949463\n",
            "lambda = 0.0002\n",
            "total time: 688.8505320549011\n",
            "step 1000 on 1800, real loss: 0.037064824253320694 , fake loss: 0.04643269255757332 ,  Gen loss: 3.9967377185821533\n",
            "lambda = 0.00018200000000000006\n",
            "total time: 712.4807567596436\n",
            "step 1500 on 1800, real loss: 0.07427085936069489 , fake loss: 0.03298773244023323 ,  Gen loss: 3.694762706756592\n",
            "lambda = 7.200000000000037e-05\n",
            "total time: 736.444522857666\n",
            "6\n",
            "gpu\n",
            "step 500 on 2200, real loss: 0.19823628664016724 , fake loss: 0.11125285923480988 ,  Gen loss: 3.9412970542907715\n",
            "lambda = 0.0002\n",
            "total time: 776.9094803333282\n",
            "step 1000 on 2200, real loss: 0.07948294281959534 , fake loss: 0.14870455861091614 ,  Gen loss: 1.7362704277038574\n",
            "lambda = 0.0002\n",
            "total time: 801.8621113300323\n",
            "step 1500 on 2200, real loss: 0.13361066579818726 , fake loss: 0.05931608006358147 ,  Gen loss: 2.8404555320739746\n",
            "lambda = 0.0001320000000000002\n",
            "total time: 826.1494405269623\n",
            "step 2000 on 2200, real loss: 0.10028041154146194 , fake loss: 0.0865192860364914 ,  Gen loss: 2.74538516998291\n",
            "lambda = 4.2000000000000384e-05\n",
            "total time: 850.3860576152802\n",
            "7\n",
            "gpu\n",
            "step 500 on 2200, real loss: 0.1006142795085907 , fake loss: 0.05125334858894348 ,  Gen loss: 4.905646324157715\n",
            "lambda = 0.0002\n",
            "total time: 884.7064707279205\n",
            "step 1000 on 2200, real loss: 0.14046159386634827 , fake loss: 0.04593034088611603 ,  Gen loss: 1.2684117555618286\n",
            "lambda = 0.0002\n",
            "total time: 908.6944184303284\n",
            "step 1500 on 2200, real loss: 0.09164386987686157 , fake loss: 0.07226540893316269 ,  Gen loss: 3.314880847930908\n",
            "lambda = 0.0001320000000000002\n",
            "total time: 932.6351499557495\n",
            "step 2000 on 2200, real loss: 0.05258670821785927 , fake loss: 0.030608586966991425 ,  Gen loss: 3.0707874298095703\n",
            "lambda = 4.2000000000000384e-05\n",
            "total time: 956.7122755050659\n",
            "8\n",
            "gpu\n",
            "step 500 on 1800, real loss: 0.1626920849084854 , fake loss: 0.09093110263347626 ,  Gen loss: 5.025827407836914\n",
            "lambda = 0.0002\n",
            "total time: 990.8662009239197\n",
            "step 1000 on 1800, real loss: 0.09971533715724945 , fake loss: 0.15167546272277832 ,  Gen loss: 4.118803977966309\n",
            "lambda = 0.00018200000000000006\n",
            "total time: 1014.9082200527191\n",
            "step 1500 on 1800, real loss: 0.06311197578907013 , fake loss: 0.07077020406723022 ,  Gen loss: 3.387737274169922\n",
            "lambda = 7.200000000000037e-05\n",
            "total time: 1039.304790019989\n",
            "9\n",
            "gpu\n",
            "step 500 on 2200, real loss: 0.20906445384025574 , fake loss: 0.167676642537117 ,  Gen loss: 3.571497678756714\n",
            "lambda = 0.0002\n",
            "total time: 1078.172788143158\n",
            "step 1000 on 2200, real loss: 0.14353309571743011 , fake loss: 0.12182622402906418 ,  Gen loss: 1.0566020011901855\n",
            "lambda = 0.0002\n",
            "total time: 1102.1145603656769\n",
            "step 1500 on 2200, real loss: 0.17896702885627747 , fake loss: 0.09372170269489288 ,  Gen loss: 2.6785659790039062\n",
            "lambda = 0.0001320000000000002\n",
            "total time: 1126.2038753032684\n",
            "step 2000 on 2200, real loss: 0.15644831955432892 , fake loss: 0.10833486914634705 ,  Gen loss: 2.3646323680877686\n",
            "lambda = 4.2000000000000384e-05\n",
            "total time: 1150.196785211563\n"
          ],
          "name": "stdout"
        }
      ]
    },
    {
      "cell_type": "code",
      "metadata": {
        "id": "LnYRrm8MQPcf",
        "colab": {
          "base_uri": "https://localhost:8080/",
          "height": 714
        },
        "outputId": "d7b35ba2-83d5-410e-f534-924e566297d8"
      },
      "source": [
        "#création d'un fichier zip à télécharger dans colab\n",
        "!zip -r /content/model.zip /content/model"
      ],
      "execution_count": null,
      "outputs": [
        {
          "output_type": "stream",
          "text": [
            "  adding: content/model/ (stored 0%)\n",
            "  adding: content/model/D_mnist_4.pth (deflated 8%)\n",
            "  adding: content/model/D_mnist_5.pth (deflated 8%)\n",
            "  adding: content/model/D_usps_3.pth (deflated 9%)\n",
            "  adding: content/model/D_mnist_8.pth (deflated 8%)\n",
            "  adding: content/model/G_uspstomnist_0.pth (deflated 9%)\n",
            "  adding: content/model/D_usps_7.pth (deflated 9%)\n",
            "  adding: content/model/G_uspstomnist_5.pth (deflated 9%)\n",
            "  adding: content/model/G_uspstomnist_1.pth (deflated 9%)\n",
            "  adding: content/model/G_uspstomnist_2.pth (deflated 9%)\n",
            "  adding: content/model/G_mnisttousps_3.pth (deflated 9%)\n",
            "  adding: content/model/D_usps_4.pth (deflated 9%)\n",
            "  adding: content/model/D_mnist_6.pth (deflated 8%)\n",
            "  adding: content/model/G_uspstomnist_6.pth (deflated 9%)\n",
            "  adding: content/model/D_mnist_9.pth (deflated 8%)\n",
            "  adding: content/model/D_usps_5.pth (deflated 9%)\n",
            "  adding: content/model/G_uspstomnist_7.pth (deflated 9%)\n",
            "  adding: content/model/G_uspstomnist_3.pth (deflated 9%)\n",
            "  adding: content/model/G_mnisttousps_6.pth (deflated 9%)\n",
            "  adding: content/model/D_usps_2.pth (deflated 9%)\n",
            "  adding: content/model/D_mnist_7.pth (deflated 8%)\n",
            "  adding: content/model/D_usps_0.pth (deflated 9%)\n",
            "  adding: content/model/G_mnisttousps_1.pth (deflated 9%)\n",
            "  adding: content/model/D_mnist_3.pth (deflated 8%)\n",
            "  adding: content/model/D_usps_8.pth (deflated 9%)\n",
            "  adding: content/model/D_mnist_1.pth (deflated 8%)\n",
            "  adding: content/model/D_usps_6.pth (deflated 9%)\n",
            "  adding: content/model/G_mnisttousps_8.pth (deflated 9%)\n",
            "  adding: content/model/G_uspstomnist_9.pth (deflated 9%)\n",
            "  adding: content/model/G_mnisttousps_4.pth (deflated 9%)\n",
            "  adding: content/model/G_mnisttousps_9.pth (deflated 9%)\n",
            "  adding: content/model/D_mnist_2.pth (deflated 8%)\n",
            "  adding: content/model/G_uspstomnist_8.pth (deflated 9%)\n",
            "  adding: content/model/G_mnisttousps_2.pth (deflated 9%)\n",
            "  adding: content/model/G_mnisttousps_7.pth (deflated 9%)\n",
            "  adding: content/model/D_usps_9.pth (deflated 9%)\n",
            "  adding: content/model/G_mnisttousps_0.pth (deflated 9%)\n",
            "  adding: content/model/G_uspstomnist_4.pth (deflated 9%)\n",
            "  adding: content/model/D_usps_1.pth (deflated 9%)\n",
            "  adding: content/model/D_mnist_0.pth (deflated 8%)\n",
            "  adding: content/model/G_mnisttousps_5.pth (deflated 9%)\n"
          ],
          "name": "stdout"
        }
      ]
    },
    {
      "cell_type": "code",
      "metadata": {
        "id": "g6Ezj2jkFKCu"
      },
      "source": [
        "#téléchargement du fichier zip précédent\n",
        "from google.colab import files\n",
        "files.download(\"/content/model.zip\")"
      ],
      "execution_count": null,
      "outputs": []
    },
    {
      "cell_type": "code",
      "metadata": {
        "id": "YDfgRp8qcBk_"
      },
      "source": [
        "#exemple pour le chiffre 9"
      ],
      "execution_count": null,
      "outputs": []
    },
    {
      "cell_type": "code",
      "metadata": {
        "id": "rJid6jTJcBlD",
        "outputId": "b62d5d98-e2ba-4350-bb79-0659a5a33045"
      },
      "source": [
        "GMU = GMNISTUSPS()\n",
        "GMU.load_state_dict(torch.load(\"./model/G_mnisttousps_9.pth\"))\n",
        "\n",
        "GUM = GUSPSMNIST()\n",
        "GUM.load_state_dict(torch.load(\"./model/G_uspstomnist_9.pth\"))"
      ],
      "execution_count": null,
      "outputs": [
        {
          "output_type": "execute_result",
          "data": {
            "text/plain": [
              "<All keys matched successfully>"
            ]
          },
          "metadata": {
            "tags": []
          },
          "execution_count": 58
        }
      ]
    },
    {
      "cell_type": "code",
      "metadata": {
        "id": "Rd0EdjWhcBlG"
      },
      "source": [
        "X_test, y_test = loadlocal_mnist(\n",
        "        images_path='./MNIST_test_im', \n",
        "        labels_path='./MNIST_test_label')\n",
        "X_test = X_test/254\n",
        "with h5py.File(\"./usps.h5\", 'r') as hf:\n",
        "        test = hf.get('test')\n",
        "        X_te = test.get('data')[:]\n",
        "        y_te = test.get('target')[:]"
      ],
      "execution_count": null,
      "outputs": []
    },
    {
      "cell_type": "code",
      "metadata": {
        "id": "3t9yM4PrcBlJ"
      },
      "source": [
        "x = np.expand_dims(X_test.reshape(10000,28,28), 1)\n",
        "tensor_x_1 = torch.from_numpy(x.astype(\"float32\")) # transform to torch tensor\n",
        "tensor_y_1 = torch.from_numpy(y_test.astype(\"float32\"))\n",
        "tensor_x_2 = torch.from_numpy(X_te.reshape(2007,1,16,16).astype(\"float32\"))\n",
        "tensor_y_2 = torch.from_numpy(y_te.astype(\"float32\"))\n",
        "my_dataset_1 = TensorDataset(tensor_x_1,tensor_y_1)# create your datset\n",
        "my_dataset_2 = TensorDataset(tensor_x_2,tensor_y_2)\n",
        "class_inds_1 = [torch.where(my_dataset_1.tensors[1] == i)[0]\n",
        "              for i in range(10)]\n",
        "class_inds_2 = [torch.where(my_dataset_2.tensors[1] == i)[0]\n",
        "              for i in range(10)]\n",
        "dataloaders_1 = [\n",
        "    DataLoader(\n",
        "        dataset=Subset(my_dataset_1, class_inds_1[i]),\n",
        "        batch_size=64,\n",
        "        shuffle=True,\n",
        "        drop_last=False)\n",
        "    for i in range(10)]\n",
        "\n",
        "dataloaders_2 = [\n",
        "    DataLoader(\n",
        "        dataset=Subset(my_dataset_2, class_inds_2[i]),\n",
        "        batch_size=64,\n",
        "        shuffle=True,\n",
        "        drop_last=False)\n",
        "    for i in range(10)]"
      ],
      "execution_count": null,
      "outputs": []
    },
    {
      "cell_type": "code",
      "metadata": {
        "id": "BqzEpSkOcBlM"
      },
      "source": [
        "loader_1 = dataloaders_1[9]\n",
        "loader_2 = dataloaders_2[9]"
      ],
      "execution_count": null,
      "outputs": []
    },
    {
      "cell_type": "code",
      "metadata": {
        "id": "tJqIsMQXEYk-",
        "colab": {
          "base_uri": "https://localhost:8080/",
          "height": 197
        },
        "outputId": "b3a72b17-1e32-4fd1-cf05-32f1dbc0369a"
      },
      "source": [
        "#traduction de MNIST à USPS\n",
        "for e in iter(loader_1):\n",
        "    plt.imshow(GMU(e[0].cuda())[0][0].detach().numpy().reshape(16,16))\n",
        "    break"
      ],
      "execution_count": null,
      "outputs": [
        {
          "output_type": "display_data",
          "data": {
            "image/png": "[encoded data removed]",
            "text/plain": [
              "<Figure size 432x288 with 1 Axes>"
            ]
          },
          "metadata": {
            "tags": [],
            "needs_background": "light"
          }
        }
      ]
    },
    {
      "cell_type": "code",
      "metadata": {
        "id": "30_0y6fYvoBa",
        "outputId": "d0f0528a-3652-4cc8-c41f-7b3bc31fd233"
      },
      "source": [
        "#Traduction de USPS à MNIST\n",
        "for e in iter(loader_2):\n",
        "    plt.imshow(GUM(e[0].cuda())[0][0].cpu().detach().numpy().reshape(28,28))\n",
        "    break"
      ],
      "execution_count": null,
      "outputs": [
        {
          "output_type": "display_data",
          "data": {
            "image/png": "[encoded data removed]",
            "text/plain": [
              "<Figure size 432x288 with 1 Axes>"
            ]
          },
          "metadata": {
            "tags": [],
            "needs_background": "light"
          }
        }
      ]
    },
    {
      "cell_type": "code",
      "metadata": {
        "id": "8PuH3_xSNp4I",
        "outputId": "ffe3a39e-9f42-40ec-e8c0-b0228aac5d55"
      },
      "source": [
        "#cycle MNIST --- > USPS --- > MNIST\n",
        "for e in iter(loader_1):\n",
        "    plt.imshow(GUM(GMU(e[0].cuda()))[0][0].cpu().detach().numpy().reshape(28,28))\n",
        "    break"
      ],
      "execution_count": null,
      "outputs": [
        {
          "output_type": "display_data",
          "data": {
            "image/png": "[encoded data removed]",
            "text/plain": [
              "<Figure size 432x288 with 1 Axes>"
            ]
          },
          "metadata": {
            "tags": [],
            "needs_background": "light"
          }
        }
      ]
    },
    {
      "cell_type": "code",
      "metadata": {
        "id": "BYXjciBoV7yV",
        "outputId": "bbafbe10-8bf9-4e93-f3aa-0e362da94e09"
      },
      "source": [
        "#cycle USPS --- > MNIST --- > USPS\n",
        "for e in iter(loader_2):\n",
        "    plt.imshow(GMU(GUM(e[0]))[0][0].cpu().detach().numpy().reshape(16,16))\n",
        "    break"
      ],
      "execution_count": null,
      "outputs": [
        {
          "output_type": "display_data",
          "data": {
            "image/png": "[encoded data removed]",
            "text/plain": [
              "<Figure size 432x288 with 1 Axes>"
            ]
          },
          "metadata": {
            "tags": [],
            "needs_background": "light"
          }
        }
      ]
    }
  ]
}